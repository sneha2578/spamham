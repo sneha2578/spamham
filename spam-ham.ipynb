{
 "cells": [
  {
   "cell_type": "code",
   "execution_count": 1,
   "id": "3311c7d1",
   "metadata": {
    "_cell_guid": "b1076dfc-b9ad-4769-8c92-a6c4dae69d19",
    "_uuid": "8f2839f25d086af736a60e9eeb907d3b93b6e0e5",
    "execution": {
     "iopub.execute_input": "2023-10-11T19:15:22.921639Z",
     "iopub.status.busy": "2023-10-11T19:15:22.920953Z",
     "iopub.status.idle": "2023-10-11T19:15:23.511351Z",
     "shell.execute_reply": "2023-10-11T19:15:23.510329Z"
    },
    "papermill": {
     "duration": 0.601691,
     "end_time": "2023-10-11T19:15:23.513320",
     "exception": false,
     "start_time": "2023-10-11T19:15:22.911629",
     "status": "completed"
    },
    "tags": []
   },
   "outputs": [
    {
     "name": "stdout",
     "output_type": "stream",
     "text": [
      "/kaggle/input/spam-mails-dataset/spam_ham_dataset.csv\n"
     ]
    }
   ],
   "source": [
    "# This Python 3 environment comes with many helpful analytics libraries installed\n",
    "# It is defined by the kaggle/python Docker image: https://github.com/kaggle/docker-python\n",
    "# For example, here's several helpful packages to load\n",
    "\n",
    "import numpy as np # linear algebra\n",
    "import pandas as pd # data processing, CSV file I/O (e.g. pd.read_csv)\n",
    "\n",
    "# Input data files are available in the read-only \"../input/\" directory\n",
    "# For example, running this (by clicking run or pressing Shift+Enter) will list all files under the input directory\n",
    "\n",
    "import os\n",
    "for dirname, _, filenames in os.walk('/kaggle/input'):\n",
    "    for filename in filenames:\n",
    "        print(os.path.join(dirname, filename))\n",
    "spam_ham=pd.read_csv(\"/kaggle/input/spam-mails-dataset/spam_ham_dataset.csv\")        \n",
    "\n",
    "# You can write up to 20GB to the current directory (/kaggle/working/) that gets preserved as output when you create a version using \"Save & Run All\" \n",
    "# You can also write temporary files to /kaggle/temp/, but they won't be saved outside of the current session"
   ]
  },
  {
   "cell_type": "code",
   "execution_count": 2,
   "id": "b6833fe2",
   "metadata": {
    "execution": {
     "iopub.execute_input": "2023-10-11T19:15:23.525193Z",
     "iopub.status.busy": "2023-10-11T19:15:23.524827Z",
     "iopub.status.idle": "2023-10-11T19:15:25.066361Z",
     "shell.execute_reply": "2023-10-11T19:15:25.065024Z"
    },
    "papermill": {
     "duration": 1.550354,
     "end_time": "2023-10-11T19:15:25.068984",
     "exception": false,
     "start_time": "2023-10-11T19:15:23.518630",
     "status": "completed"
    },
    "tags": []
   },
   "outputs": [],
   "source": [
    "import matplotlib.pyplot as plt\n",
    "import seaborn as sns"
   ]
  },
  {
   "cell_type": "code",
   "execution_count": 3,
   "id": "b76eb99d",
   "metadata": {
    "execution": {
     "iopub.execute_input": "2023-10-11T19:15:25.080610Z",
     "iopub.status.busy": "2023-10-11T19:15:25.080224Z",
     "iopub.status.idle": "2023-10-11T19:15:25.109405Z",
     "shell.execute_reply": "2023-10-11T19:15:25.107660Z"
    },
    "papermill": {
     "duration": 0.038485,
     "end_time": "2023-10-11T19:15:25.112452",
     "exception": false,
     "start_time": "2023-10-11T19:15:25.073967",
     "status": "completed"
    },
    "tags": []
   },
   "outputs": [
    {
     "data": {
      "text/html": [
       "<div>\n",
       "<style scoped>\n",
       "    .dataframe tbody tr th:only-of-type {\n",
       "        vertical-align: middle;\n",
       "    }\n",
       "\n",
       "    .dataframe tbody tr th {\n",
       "        vertical-align: top;\n",
       "    }\n",
       "\n",
       "    .dataframe thead th {\n",
       "        text-align: right;\n",
       "    }\n",
       "</style>\n",
       "<table border=\"1\" class=\"dataframe\">\n",
       "  <thead>\n",
       "    <tr style=\"text-align: right;\">\n",
       "      <th></th>\n",
       "      <th>Unnamed: 0</th>\n",
       "      <th>label</th>\n",
       "      <th>text</th>\n",
       "      <th>label_num</th>\n",
       "    </tr>\n",
       "  </thead>\n",
       "  <tbody>\n",
       "    <tr>\n",
       "      <th>0</th>\n",
       "      <td>605</td>\n",
       "      <td>ham</td>\n",
       "      <td>Subject: enron methanol ; meter # : 988291\\r\\n...</td>\n",
       "      <td>0</td>\n",
       "    </tr>\n",
       "    <tr>\n",
       "      <th>1</th>\n",
       "      <td>2349</td>\n",
       "      <td>ham</td>\n",
       "      <td>Subject: hpl nom for january 9 , 2001\\r\\n( see...</td>\n",
       "      <td>0</td>\n",
       "    </tr>\n",
       "    <tr>\n",
       "      <th>2</th>\n",
       "      <td>3624</td>\n",
       "      <td>ham</td>\n",
       "      <td>Subject: neon retreat\\r\\nho ho ho , we ' re ar...</td>\n",
       "      <td>0</td>\n",
       "    </tr>\n",
       "    <tr>\n",
       "      <th>3</th>\n",
       "      <td>4685</td>\n",
       "      <td>spam</td>\n",
       "      <td>Subject: photoshop , windows , office . cheap ...</td>\n",
       "      <td>1</td>\n",
       "    </tr>\n",
       "    <tr>\n",
       "      <th>4</th>\n",
       "      <td>2030</td>\n",
       "      <td>ham</td>\n",
       "      <td>Subject: re : indian springs\\r\\nthis deal is t...</td>\n",
       "      <td>0</td>\n",
       "    </tr>\n",
       "  </tbody>\n",
       "</table>\n",
       "</div>"
      ],
      "text/plain": [
       "   Unnamed: 0 label                                               text  \\\n",
       "0         605   ham  Subject: enron methanol ; meter # : 988291\\r\\n...   \n",
       "1        2349   ham  Subject: hpl nom for january 9 , 2001\\r\\n( see...   \n",
       "2        3624   ham  Subject: neon retreat\\r\\nho ho ho , we ' re ar...   \n",
       "3        4685  spam  Subject: photoshop , windows , office . cheap ...   \n",
       "4        2030   ham  Subject: re : indian springs\\r\\nthis deal is t...   \n",
       "\n",
       "   label_num  \n",
       "0          0  \n",
       "1          0  \n",
       "2          0  \n",
       "3          1  \n",
       "4          0  "
      ]
     },
     "execution_count": 3,
     "metadata": {},
     "output_type": "execute_result"
    }
   ],
   "source": [
    "spam_ham.head()\n"
   ]
  },
  {
   "cell_type": "code",
   "execution_count": 4,
   "id": "c76fa274",
   "metadata": {
    "execution": {
     "iopub.execute_input": "2023-10-11T19:15:25.125598Z",
     "iopub.status.busy": "2023-10-11T19:15:25.125178Z",
     "iopub.status.idle": "2023-10-11T19:15:25.159557Z",
     "shell.execute_reply": "2023-10-11T19:15:25.158360Z"
    },
    "papermill": {
     "duration": 0.043717,
     "end_time": "2023-10-11T19:15:25.161771",
     "exception": false,
     "start_time": "2023-10-11T19:15:25.118054",
     "status": "completed"
    },
    "tags": []
   },
   "outputs": [
    {
     "name": "stdout",
     "output_type": "stream",
     "text": [
      "<class 'pandas.core.frame.DataFrame'>\n",
      "RangeIndex: 5171 entries, 0 to 5170\n",
      "Data columns (total 4 columns):\n",
      " #   Column      Non-Null Count  Dtype \n",
      "---  ------      --------------  ----- \n",
      " 0   Unnamed: 0  5171 non-null   int64 \n",
      " 1   label       5171 non-null   object\n",
      " 2   text        5171 non-null   object\n",
      " 3   label_num   5171 non-null   int64 \n",
      "dtypes: int64(2), object(2)\n",
      "memory usage: 161.7+ KB\n"
     ]
    }
   ],
   "source": [
    "spam_ham.info()\n"
   ]
  },
  {
   "cell_type": "code",
   "execution_count": 5,
   "id": "1e31cbf9",
   "metadata": {
    "execution": {
     "iopub.execute_input": "2023-10-11T19:15:25.174113Z",
     "iopub.status.busy": "2023-10-11T19:15:25.173769Z",
     "iopub.status.idle": "2023-10-11T19:15:25.191340Z",
     "shell.execute_reply": "2023-10-11T19:15:25.190399Z"
    },
    "papermill": {
     "duration": 0.02635,
     "end_time": "2023-10-11T19:15:25.193514",
     "exception": false,
     "start_time": "2023-10-11T19:15:25.167164",
     "status": "completed"
    },
    "tags": []
   },
   "outputs": [
    {
     "data": {
      "text/html": [
       "<div>\n",
       "<style scoped>\n",
       "    .dataframe tbody tr th:only-of-type {\n",
       "        vertical-align: middle;\n",
       "    }\n",
       "\n",
       "    .dataframe tbody tr th {\n",
       "        vertical-align: top;\n",
       "    }\n",
       "\n",
       "    .dataframe thead th {\n",
       "        text-align: right;\n",
       "    }\n",
       "</style>\n",
       "<table border=\"1\" class=\"dataframe\">\n",
       "  <thead>\n",
       "    <tr style=\"text-align: right;\">\n",
       "      <th></th>\n",
       "      <th>Unnamed: 0</th>\n",
       "      <th>label_num</th>\n",
       "    </tr>\n",
       "  </thead>\n",
       "  <tbody>\n",
       "    <tr>\n",
       "      <th>count</th>\n",
       "      <td>5171.000000</td>\n",
       "      <td>5171.000000</td>\n",
       "    </tr>\n",
       "    <tr>\n",
       "      <th>mean</th>\n",
       "      <td>2585.000000</td>\n",
       "      <td>0.289886</td>\n",
       "    </tr>\n",
       "    <tr>\n",
       "      <th>std</th>\n",
       "      <td>1492.883452</td>\n",
       "      <td>0.453753</td>\n",
       "    </tr>\n",
       "    <tr>\n",
       "      <th>min</th>\n",
       "      <td>0.000000</td>\n",
       "      <td>0.000000</td>\n",
       "    </tr>\n",
       "    <tr>\n",
       "      <th>25%</th>\n",
       "      <td>1292.500000</td>\n",
       "      <td>0.000000</td>\n",
       "    </tr>\n",
       "    <tr>\n",
       "      <th>50%</th>\n",
       "      <td>2585.000000</td>\n",
       "      <td>0.000000</td>\n",
       "    </tr>\n",
       "    <tr>\n",
       "      <th>75%</th>\n",
       "      <td>3877.500000</td>\n",
       "      <td>1.000000</td>\n",
       "    </tr>\n",
       "    <tr>\n",
       "      <th>max</th>\n",
       "      <td>5170.000000</td>\n",
       "      <td>1.000000</td>\n",
       "    </tr>\n",
       "  </tbody>\n",
       "</table>\n",
       "</div>"
      ],
      "text/plain": [
       "        Unnamed: 0    label_num\n",
       "count  5171.000000  5171.000000\n",
       "mean   2585.000000     0.289886\n",
       "std    1492.883452     0.453753\n",
       "min       0.000000     0.000000\n",
       "25%    1292.500000     0.000000\n",
       "50%    2585.000000     0.000000\n",
       "75%    3877.500000     1.000000\n",
       "max    5170.000000     1.000000"
      ]
     },
     "execution_count": 5,
     "metadata": {},
     "output_type": "execute_result"
    }
   ],
   "source": [
    "spam_ham.describe()"
   ]
  },
  {
   "cell_type": "code",
   "execution_count": 6,
   "id": "18635638",
   "metadata": {
    "execution": {
     "iopub.execute_input": "2023-10-11T19:15:25.205932Z",
     "iopub.status.busy": "2023-10-11T19:15:25.205594Z",
     "iopub.status.idle": "2023-10-11T19:15:25.213700Z",
     "shell.execute_reply": "2023-10-11T19:15:25.212810Z"
    },
    "papermill": {
     "duration": 0.016642,
     "end_time": "2023-10-11T19:15:25.215584",
     "exception": false,
     "start_time": "2023-10-11T19:15:25.198942",
     "status": "completed"
    },
    "tags": []
   },
   "outputs": [
    {
     "data": {
      "text/plain": [
       "0"
      ]
     },
     "execution_count": 6,
     "metadata": {},
     "output_type": "execute_result"
    }
   ],
   "source": [
    "spam_ham['text'].isnull().sum()"
   ]
  },
  {
   "cell_type": "code",
   "execution_count": 7,
   "id": "21b3a8c6",
   "metadata": {
    "execution": {
     "iopub.execute_input": "2023-10-11T19:15:25.227889Z",
     "iopub.status.busy": "2023-10-11T19:15:25.227562Z",
     "iopub.status.idle": "2023-10-11T19:15:25.231983Z",
     "shell.execute_reply": "2023-10-11T19:15:25.231173Z"
    },
    "papermill": {
     "duration": 0.013296,
     "end_time": "2023-10-11T19:15:25.234184",
     "exception": false,
     "start_time": "2023-10-11T19:15:25.220888",
     "status": "completed"
    },
    "tags": []
   },
   "outputs": [
    {
     "name": "stdout",
     "output_type": "stream",
     "text": [
      "Index(['Unnamed: 0', 'label', 'text', 'label_num'], dtype='object')\n"
     ]
    }
   ],
   "source": [
    "print(spam_ham.columns)\n"
   ]
  },
  {
   "cell_type": "code",
   "execution_count": 8,
   "id": "129380c7",
   "metadata": {
    "execution": {
     "iopub.execute_input": "2023-10-11T19:15:25.247027Z",
     "iopub.status.busy": "2023-10-11T19:15:25.246668Z",
     "iopub.status.idle": "2023-10-11T19:15:25.491096Z",
     "shell.execute_reply": "2023-10-11T19:15:25.490034Z"
    },
    "papermill": {
     "duration": 0.253449,
     "end_time": "2023-10-11T19:15:25.493413",
     "exception": false,
     "start_time": "2023-10-11T19:15:25.239964",
     "status": "completed"
    },
    "tags": []
   },
   "outputs": [
    {
     "data": {
      "image/png": "[encoded data removed]",
      "text/plain": [
       "<Figure size 640x480 with 1 Axes>"
      ]
     },
     "metadata": {},
     "output_type": "display_data"
    }
   ],
   "source": [
    "sns.countplot(x='label', data = spam_ham)\n",
    "plt.title('Number of Spam (1) & ham (0) from e-mail dataset ')\n",
    "plt.show()"
   ]
  },
  {
   "cell_type": "code",
   "execution_count": 9,
   "id": "62777aac",
   "metadata": {
    "execution": {
     "iopub.execute_input": "2023-10-11T19:15:25.506902Z",
     "iopub.status.busy": "2023-10-11T19:15:25.506074Z",
     "iopub.status.idle": "2023-10-11T19:15:25.514246Z",
     "shell.execute_reply": "2023-10-11T19:15:25.513553Z"
    },
    "papermill": {
     "duration": 0.016866,
     "end_time": "2023-10-11T19:15:25.516027",
     "exception": false,
     "start_time": "2023-10-11T19:15:25.499161",
     "status": "completed"
    },
    "tags": []
   },
   "outputs": [
    {
     "data": {
      "text/plain": [
       "label\n",
       "ham     3672\n",
       "spam    1499\n",
       "Name: count, dtype: int64"
      ]
     },
     "execution_count": 9,
     "metadata": {},
     "output_type": "execute_result"
    }
   ],
   "source": [
    "def sum_func(df,column): # this function will help in counting the same group entries\n",
    "    for i in range(len(column)):\n",
    "        count = df[column].value_counts()\n",
    "        return count\n",
    "\n",
    "sum_func(spam_ham, 'label')\n"
   ]
  },
  {
   "cell_type": "code",
   "execution_count": 10,
   "id": "3daafa06",
   "metadata": {
    "execution": {
     "iopub.execute_input": "2023-10-11T19:15:25.530338Z",
     "iopub.status.busy": "2023-10-11T19:15:25.529722Z",
     "iopub.status.idle": "2023-10-11T19:15:25.539493Z",
     "shell.execute_reply": "2023-10-11T19:15:25.538277Z"
    },
    "papermill": {
     "duration": 0.019564,
     "end_time": "2023-10-11T19:15:25.541690",
     "exception": false,
     "start_time": "2023-10-11T19:15:25.522126",
     "status": "completed"
    },
    "tags": []
   },
   "outputs": [
    {
     "name": "stdout",
     "output_type": "stream",
     "text": [
      "Spam percentage is  28.98859021465867 %\n"
     ]
    }
   ],
   "source": [
    "spam_ham['label'] = spam_ham['label'].map({'ham': 0, 'spam': 1})\n",
    "print( \"Spam percentage is \",spam_ham['label'].sum()/len(spam_ham.index)* 100, \"%\")\n"
   ]
  },
  {
   "cell_type": "code",
   "execution_count": 11,
   "id": "07add6de",
   "metadata": {
    "execution": {
     "iopub.execute_input": "2023-10-11T19:15:25.555230Z",
     "iopub.status.busy": "2023-10-11T19:15:25.554900Z",
     "iopub.status.idle": "2023-10-11T19:15:25.560984Z",
     "shell.execute_reply": "2023-10-11T19:15:25.560067Z"
    },
    "papermill": {
     "duration": 0.014936,
     "end_time": "2023-10-11T19:15:25.562683",
     "exception": false,
     "start_time": "2023-10-11T19:15:25.547747",
     "status": "completed"
    },
    "tags": []
   },
   "outputs": [],
   "source": [
    "numpy_array = spam_ham.to_numpy()\n",
    "\n",
    "\n",
    "X = numpy_array[:, 0]  \n",
    "y = numpy_array[:, 1]"
   ]
  },
  {
   "cell_type": "code",
   "execution_count": 12,
   "id": "4f991ade",
   "metadata": {
    "execution": {
     "iopub.execute_input": "2023-10-11T19:15:25.576834Z",
     "iopub.status.busy": "2023-10-11T19:15:25.575959Z",
     "iopub.status.idle": "2023-10-11T19:15:25.583984Z",
     "shell.execute_reply": "2023-10-11T19:15:25.582950Z"
    },
    "papermill": {
     "duration": 0.016994,
     "end_time": "2023-10-11T19:15:25.585880",
     "exception": false,
     "start_time": "2023-10-11T19:15:25.568886",
     "status": "completed"
    },
    "tags": []
   },
   "outputs": [
    {
     "name": "stdout",
     "output_type": "stream",
     "text": [
      "X\n",
      "0       Subject: enron methanol ; meter # : 988291\\r\\n...\n",
      "1       Subject: hpl nom for january 9 , 2001\\r\\n( see...\n",
      "2       Subject: neon retreat\\r\\nho ho ho , we ' re ar...\n",
      "3       Subject: photoshop , windows , office . cheap ...\n",
      "4       Subject: re : indian springs\\r\\nthis deal is t...\n",
      "                              ...                        \n",
      "5166    Subject: put the 10 on the ft\\r\\nthe transport...\n",
      "5167    Subject: 3 / 4 / 2000 and following noms\\r\\nhp...\n",
      "5168    Subject: calpine daily gas nomination\\r\\n>\\r\\n...\n",
      "5169    Subject: industrial worksheets for august 2000...\n",
      "5170    Subject: important online banking alert\\r\\ndea...\n",
      "Name: text, Length: 5171, dtype: object\n",
      "y\n",
      "0       0\n",
      "1       0\n",
      "2       0\n",
      "3       1\n",
      "4       0\n",
      "       ..\n",
      "5166    0\n",
      "5167    0\n",
      "5168    0\n",
      "5169    0\n",
      "5170    1\n",
      "Name: label, Length: 5171, dtype: int64\n"
     ]
    }
   ],
   "source": [
    "\n",
    "X= spam_ham.text\n",
    "y= spam_ham.label\n",
    "#X=numpy_array[:,0]\n",
    "#y=numpy_array[:,1]\n",
    "#y = y.astype('int')\n",
    "print(\"X\")\n",
    "print(X)\n",
    "print(\"y\")\n",
    "print(y)"
   ]
  },
  {
   "cell_type": "code",
   "execution_count": 13,
   "id": "c43b081e",
   "metadata": {
    "execution": {
     "iopub.execute_input": "2023-10-11T19:15:25.600214Z",
     "iopub.status.busy": "2023-10-11T19:15:25.599550Z",
     "iopub.status.idle": "2023-10-11T19:15:25.877580Z",
     "shell.execute_reply": "2023-10-11T19:15:25.876546Z"
    },
    "papermill": {
     "duration": 0.287761,
     "end_time": "2023-10-11T19:15:25.879739",
     "exception": false,
     "start_time": "2023-10-11T19:15:25.591978",
     "status": "completed"
    },
    "tags": []
   },
   "outputs": [
    {
     "data": {
      "text/plain": [
       "3829    Subject: marathon oil company meter 098 - 6599...\n",
       "469     Subject: nov 1 st entex nom\\r\\n- - - - - - - -...\n",
       "4887    Subject: announcing outlook web access for hou...\n",
       "4950    Subject: \\r\\n( envelope - from 20040929124340 ...\n",
       "2563    Subject: \\r\\nthis week only : f . ree gen . er...\n",
       "                              ...                        \n",
       "4149    Subject: re : panenergy marketing march 2000 p...\n",
       "1890    Subject: re : another hesco issue\\r\\nhelp . st...\n",
       "350     Subject: nine best generic meds for cheap !\\r\\...\n",
       "79      Subject: @ ect . enron . com email notificatio...\n",
       "3927    Subject: liffe is great\\r\\nhello ,\\r\\nvlsit ou...\n",
       "Name: text, Length: 3878, dtype: object"
      ]
     },
     "execution_count": 13,
     "metadata": {},
     "output_type": "execute_result"
    }
   ],
   "source": [
    "import sklearn\n",
    "from sklearn.model_selection import train_test_split\n",
    "\n",
    "X_train, X_test, y_train, y_test = train_test_split(X,y, random_state=100)\n",
    "X_train"
   ]
  },
  {
   "cell_type": "code",
   "execution_count": 14,
   "id": "7b61c39c",
   "metadata": {
    "execution": {
     "iopub.execute_input": "2023-10-11T19:15:25.893698Z",
     "iopub.status.busy": "2023-10-11T19:15:25.893274Z",
     "iopub.status.idle": "2023-10-11T19:15:26.510838Z",
     "shell.execute_reply": "2023-10-11T19:15:26.509566Z"
    },
    "papermill": {
     "duration": 0.627024,
     "end_time": "2023-10-11T19:15:26.512928",
     "exception": false,
     "start_time": "2023-10-11T19:15:25.885904",
     "status": "completed"
    },
    "tags": []
   },
   "outputs": [
    {
     "data": {
      "text/html": [
       "<style>#sk-container-id-1 {color: black;background-color: white;}#sk-container-id-1 pre{padding: 0;}#sk-container-id-1 div.sk-toggleable {background-color: white;}#sk-container-id-1 label.sk-toggleable__label {cursor: pointer;display: block;width: 100%;margin-bottom: 0;padding: 0.3em;box-sizing: border-box;text-align: center;}#sk-container-id-1 label.sk-toggleable__label-arrow:before {content: \"▸\";float: left;margin-right: 0.25em;color: #696969;}#sk-container-id-1 label.sk-toggleable__label-arrow:hover:before {color: black;}#sk-container-id-1 div.sk-estimator:hover label.sk-toggleable__label-arrow:before {color: black;}#sk-container-id-1 div.sk-toggleable__content {max-height: 0;max-width: 0;overflow: hidden;text-align: left;background-color: #f0f8ff;}#sk-container-id-1 div.sk-toggleable__content pre {margin: 0.2em;color: black;border-radius: 0.25em;background-color: #f0f8ff;}#sk-container-id-1 input.sk-toggleable__control:checked~div.sk-toggleable__content {max-height: 200px;max-width: 100%;overflow: auto;}#sk-container-id-1 input.sk-toggleable__control:checked~label.sk-toggleable__label-arrow:before {content: \"▾\";}#sk-container-id-1 div.sk-estimator input.sk-toggleable__control:checked~label.sk-toggleable__label {background-color: #d4ebff;}#sk-container-id-1 div.sk-label input.sk-toggleable__control:checked~label.sk-toggleable__label {background-color: #d4ebff;}#sk-container-id-1 input.sk-hidden--visually {border: 0;clip: rect(1px 1px 1px 1px);clip: rect(1px, 1px, 1px, 1px);height: 1px;margin: -1px;overflow: hidden;padding: 0;position: absolute;width: 1px;}#sk-container-id-1 div.sk-estimator {font-family: monospace;background-color: #f0f8ff;border: 1px dotted black;border-radius: 0.25em;box-sizing: border-box;margin-bottom: 0.5em;}#sk-container-id-1 div.sk-estimator:hover {background-color: #d4ebff;}#sk-container-id-1 div.sk-parallel-item::after {content: \"\";width: 100%;border-bottom: 1px solid gray;flex-grow: 1;}#sk-container-id-1 div.sk-label:hover label.sk-toggleable__label {background-color: #d4ebff;}#sk-container-id-1 div.sk-serial::before {content: \"\";position: absolute;border-left: 1px solid gray;box-sizing: border-box;top: 0;bottom: 0;left: 50%;z-index: 0;}#sk-container-id-1 div.sk-serial {display: flex;flex-direction: column;align-items: center;background-color: white;padding-right: 0.2em;padding-left: 0.2em;position: relative;}#sk-container-id-1 div.sk-item {position: relative;z-index: 1;}#sk-container-id-1 div.sk-parallel {display: flex;align-items: stretch;justify-content: center;background-color: white;position: relative;}#sk-container-id-1 div.sk-item::before, #sk-container-id-1 div.sk-parallel-item::before {content: \"\";position: absolute;border-left: 1px solid gray;box-sizing: border-box;top: 0;bottom: 0;left: 50%;z-index: -1;}#sk-container-id-1 div.sk-parallel-item {display: flex;flex-direction: column;z-index: 1;position: relative;background-color: white;}#sk-container-id-1 div.sk-parallel-item:first-child::after {align-self: flex-end;width: 50%;}#sk-container-id-1 div.sk-parallel-item:last-child::after {align-self: flex-start;width: 50%;}#sk-container-id-1 div.sk-parallel-item:only-child::after {width: 0;}#sk-container-id-1 div.sk-dashed-wrapped {border: 1px dashed gray;margin: 0 0.4em 0.5em 0.4em;box-sizing: border-box;padding-bottom: 0.4em;background-color: white;}#sk-container-id-1 div.sk-label label {font-family: monospace;font-weight: bold;display: inline-block;line-height: 1.2em;}#sk-container-id-1 div.sk-label-container {text-align: center;}#sk-container-id-1 div.sk-container {/* jupyter's `normalize.less` sets `[hidden] { display: none; }` but bootstrap.min.css set `[hidden] { display: none !important; }` so we also need the `!important` here to be able to override the default hidden behavior on the sphinx rendered scikit-learn.org. See: https://github.com/scikit-learn/scikit-learn/issues/21755 */display: inline-block !important;position: relative;}#sk-container-id-1 div.sk-text-repr-fallback {display: none;}</style><div id=\"sk-container-id-1\" class=\"sk-top-container\"><div class=\"sk-text-repr-fallback\"><pre>CountVectorizer(stop_words=&#x27;english&#x27;)</pre><b>In a Jupyter environment, please rerun this cell to show the HTML representation or trust the notebook. <br />On GitHub, the HTML representation is unable to render, please try loading this page with nbviewer.org.</b></div><div class=\"sk-container\" hidden><div class=\"sk-item\"><div class=\"sk-estimator sk-toggleable\"><input class=\"sk-toggleable__control sk-hidden--visually\" id=\"sk-estimator-id-1\" type=\"checkbox\" checked><label for=\"sk-estimator-id-1\" class=\"sk-toggleable__label sk-toggleable__label-arrow\">CountVectorizer</label><div class=\"sk-toggleable__content\"><pre>CountVectorizer(stop_words=&#x27;english&#x27;)</pre></div></div></div></div></div>"
      ],
      "text/plain": [
       "CountVectorizer(stop_words='english')"
      ]
     },
     "execution_count": 14,
     "metadata": {},
     "output_type": "execute_result"
    }
   ],
   "source": [
    "from sklearn.feature_extraction.text import CountVectorizer\n",
    "vect= CountVectorizer(stop_words=\"english\")\n",
    "vect.fit(X_train)\n",
    "\n",
    "# printing the Vocabulary texts\n",
    "\n"
   ]
  },
  {
   "cell_type": "code",
   "execution_count": 15,
   "id": "774b4141",
   "metadata": {
    "execution": {
     "iopub.execute_input": "2023-10-11T19:15:26.527901Z",
     "iopub.status.busy": "2023-10-11T19:15:26.526968Z",
     "iopub.status.idle": "2023-10-11T19:15:26.533616Z",
     "shell.execute_reply": "2023-10-11T19:15:26.532610Z"
    },
    "papermill": {
     "duration": 0.016247,
     "end_time": "2023-10-11T19:15:26.535666",
     "exception": false,
     "start_time": "2023-10-11T19:15:26.519419",
     "status": "completed"
    },
    "tags": []
   },
   "outputs": [
    {
     "data": {
      "text/plain": [
       "(3878,)"
      ]
     },
     "execution_count": 15,
     "metadata": {},
     "output_type": "execute_result"
    }
   ],
   "source": [
    "X_train.shape"
   ]
  },
  {
   "cell_type": "code",
   "execution_count": 16,
   "id": "8d0d186f",
   "metadata": {
    "execution": {
     "iopub.execute_input": "2023-10-11T19:15:26.550364Z",
     "iopub.status.busy": "2023-10-11T19:15:26.550003Z",
     "iopub.status.idle": "2023-10-11T19:15:27.184333Z",
     "shell.execute_reply": "2023-10-11T19:15:27.183358Z"
    },
    "papermill": {
     "duration": 0.644558,
     "end_time": "2023-10-11T19:15:27.186788",
     "exception": false,
     "start_time": "2023-10-11T19:15:26.542230",
     "status": "completed"
    },
    "tags": []
   },
   "outputs": [
    {
     "name": "stdout",
     "output_type": "stream",
     "text": [
      "  (0, 668)\t1\n",
      "  (0, 2198)\t1\n",
      "  (0, 4227)\t1\n",
      "  (0, 4733)\t1\n",
      "  (0, 6664)\t1\n",
      "  (0, 7662)\t1\n",
      "  (0, 11422)\t1\n",
      "  (0, 11710)\t1\n",
      "  (0, 12032)\t1\n",
      "  (0, 14683)\t1\n",
      "  (0, 15039)\t1\n",
      "  (0, 15843)\t1\n",
      "  (0, 17994)\t1\n",
      "  (0, 19119)\t1\n",
      "  (0, 19121)\t1\n",
      "  (0, 19190)\t1\n",
      "  (0, 19258)\t1\n",
      "  (0, 20195)\t1\n",
      "  (0, 20476)\t1\n",
      "  (0, 20921)\t1\n",
      "  (0, 24248)\t1\n",
      "  (0, 25116)\t1\n",
      "  (0, 25157)\t1\n",
      "  (0, 25566)\t1\n",
      "  (0, 26135)\t1\n",
      "  :\t:\n",
      "  (1292, 32711)\t1\n",
      "  (1292, 32998)\t1\n",
      "  (1292, 33275)\t1\n",
      "  (1292, 34371)\t1\n",
      "  (1292, 34458)\t1\n",
      "  (1292, 34838)\t1\n",
      "  (1292, 34841)\t1\n",
      "  (1292, 35550)\t2\n",
      "  (1292, 35993)\t1\n",
      "  (1292, 36070)\t1\n",
      "  (1292, 36888)\t1\n",
      "  (1292, 36943)\t1\n",
      "  (1292, 37129)\t1\n",
      "  (1292, 37666)\t1\n",
      "  (1292, 37910)\t1\n",
      "  (1292, 37957)\t1\n",
      "  (1292, 37971)\t1\n",
      "  (1292, 38427)\t1\n",
      "  (1292, 38696)\t1\n",
      "  (1292, 39017)\t1\n",
      "  (1292, 39529)\t1\n",
      "  (1292, 40240)\t1\n",
      "  (1292, 40721)\t1\n",
      "  (1292, 41199)\t2\n",
      "  (1292, 42003)\t1\n"
     ]
    }
   ],
   "source": [
    "X_train_transformed= vect.transform(X_train)\n",
    "X_test_transformed = vect.transform(X_test)\n",
    "#print(X_train_transformed)\n",
    "print(X_test_transformed)\n"
   ]
  },
  {
   "cell_type": "code",
   "execution_count": 17,
   "id": "610b4f1d",
   "metadata": {
    "execution": {
     "iopub.execute_input": "2023-10-11T19:15:27.201539Z",
     "iopub.status.busy": "2023-10-11T19:15:27.201175Z",
     "iopub.status.idle": "2023-10-11T19:15:27.208222Z",
     "shell.execute_reply": "2023-10-11T19:15:27.207387Z"
    },
    "papermill": {
     "duration": 0.016583,
     "end_time": "2023-10-11T19:15:27.210052",
     "exception": false,
     "start_time": "2023-10-11T19:15:27.193469",
     "status": "completed"
    },
    "tags": []
   },
   "outputs": [
    {
     "data": {
      "text/plain": [
       "<3878x42487 sparse matrix of type '<class 'numpy.int64'>'\n",
       "\twith 252941 stored elements in Compressed Sparse Row format>"
      ]
     },
     "execution_count": 17,
     "metadata": {},
     "output_type": "execute_result"
    }
   ],
   "source": [
    "X_train_transformed"
   ]
  },
  {
   "cell_type": "code",
   "execution_count": 18,
   "id": "fbd0eb5c",
   "metadata": {
    "execution": {
     "iopub.execute_input": "2023-10-11T19:15:27.225284Z",
     "iopub.status.busy": "2023-10-11T19:15:27.224943Z",
     "iopub.status.idle": "2023-10-11T19:15:27.231216Z",
     "shell.execute_reply": "2023-10-11T19:15:27.230166Z"
    },
    "papermill": {
     "duration": 0.015929,
     "end_time": "2023-10-11T19:15:27.233138",
     "exception": false,
     "start_time": "2023-10-11T19:15:27.217209",
     "status": "completed"
    },
    "tags": []
   },
   "outputs": [
    {
     "data": {
      "text/plain": [
       "(3878, 42487)"
      ]
     },
     "execution_count": 18,
     "metadata": {},
     "output_type": "execute_result"
    }
   ],
   "source": [
    "X_train_transformed.shape"
   ]
  },
  {
   "cell_type": "code",
   "execution_count": 19,
   "id": "36c765d1",
   "metadata": {
    "execution": {
     "iopub.execute_input": "2023-10-11T19:15:27.248847Z",
     "iopub.status.busy": "2023-10-11T19:15:27.248514Z",
     "iopub.status.idle": "2023-10-11T19:15:27.256099Z",
     "shell.execute_reply": "2023-10-11T19:15:27.255146Z"
    },
    "papermill": {
     "duration": 0.017878,
     "end_time": "2023-10-11T19:15:27.258139",
     "exception": false,
     "start_time": "2023-10-11T19:15:27.240261",
     "status": "completed"
    },
    "tags": []
   },
   "outputs": [
    {
     "data": {
      "text/plain": [
       "3829    0\n",
       "469     0\n",
       "4887    0\n",
       "4950    1\n",
       "2563    1\n",
       "       ..\n",
       "4149    0\n",
       "1890    0\n",
       "350     1\n",
       "79      0\n",
       "3927    1\n",
       "Name: label, Length: 3878, dtype: int64"
      ]
     },
     "execution_count": 19,
     "metadata": {},
     "output_type": "execute_result"
    }
   ],
   "source": [
    "y_train"
   ]
  },
  {
   "cell_type": "code",
   "execution_count": 20,
   "id": "08c120c3",
   "metadata": {
    "execution": {
     "iopub.execute_input": "2023-10-11T19:15:27.274115Z",
     "iopub.status.busy": "2023-10-11T19:15:27.273570Z",
     "iopub.status.idle": "2023-10-11T19:15:27.316018Z",
     "shell.execute_reply": "2023-10-11T19:15:27.315026Z"
    },
    "papermill": {
     "duration": 0.053059,
     "end_time": "2023-10-11T19:15:27.318234",
     "exception": false,
     "start_time": "2023-10-11T19:15:27.265175",
     "status": "completed"
    },
    "tags": []
   },
   "outputs": [
    {
     "data": {
      "text/plain": [
       "0.8329466357308585"
      ]
     },
     "execution_count": 20,
     "metadata": {},
     "output_type": "execute_result"
    }
   ],
   "source": [
    "from sklearn.naive_bayes import BernoulliNB\n",
    "bnb=BernoulliNB()\n",
    "bnb.fit(X_train_transformed, y_train)\n",
    "proba= bnb.predict_proba(X_test_transformed)\n",
    "y_pred= bnb.predict(X_test_transformed)\n",
    "\n",
    "#Converting array to data frame\n",
    "#proba = pd.DataFrame(proba)\n",
    "#proba.tail()\n",
    "# printing the overall accuracy\n",
    "from sklearn import metrics\n",
    "metrics.accuracy_score(y_test, y_pred)"
   ]
  },
  {
   "cell_type": "code",
   "execution_count": 21,
   "id": "706856a5",
   "metadata": {
    "execution": {
     "iopub.execute_input": "2023-10-11T19:15:27.334254Z",
     "iopub.status.busy": "2023-10-11T19:15:27.333538Z",
     "iopub.status.idle": "2023-10-11T19:15:27.341584Z",
     "shell.execute_reply": "2023-10-11T19:15:27.340428Z"
    },
    "papermill": {
     "duration": 0.018484,
     "end_time": "2023-10-11T19:15:27.343890",
     "exception": false,
     "start_time": "2023-10-11T19:15:27.325406",
     "status": "completed"
    },
    "tags": []
   },
   "outputs": [
    {
     "name": "stdout",
     "output_type": "stream",
     "text": [
      "[[889  19]\n",
      " [197 188]]\n"
     ]
    }
   ],
   "source": [
    "from sklearn import metrics\n",
    "confusion= metrics.confusion_matrix(y_test, y_pred)\n",
    "print(confusion)\n"
   ]
  },
  {
   "cell_type": "code",
   "execution_count": 22,
   "id": "82e55a0b",
   "metadata": {
    "execution": {
     "iopub.execute_input": "2023-10-11T19:15:27.359837Z",
     "iopub.status.busy": "2023-10-11T19:15:27.359492Z",
     "iopub.status.idle": "2023-10-11T19:15:27.371926Z",
     "shell.execute_reply": "2023-10-11T19:15:27.370933Z"
    },
    "papermill": {
     "duration": 0.022701,
     "end_time": "2023-10-11T19:15:27.373964",
     "exception": false,
     "start_time": "2023-10-11T19:15:27.351263",
     "status": "completed"
    },
    "tags": []
   },
   "outputs": [
    {
     "data": {
      "text/html": [
       "<div>\n",
       "<style scoped>\n",
       "    .dataframe tbody tr th:only-of-type {\n",
       "        vertical-align: middle;\n",
       "    }\n",
       "\n",
       "    .dataframe tbody tr th {\n",
       "        vertical-align: top;\n",
       "    }\n",
       "\n",
       "    .dataframe thead th {\n",
       "        text-align: right;\n",
       "    }\n",
       "</style>\n",
       "<table border=\"1\" class=\"dataframe\">\n",
       "  <thead>\n",
       "    <tr style=\"text-align: right;\">\n",
       "      <th></th>\n",
       "      <th>Ham</th>\n",
       "      <th>Spam</th>\n",
       "    </tr>\n",
       "  </thead>\n",
       "  <tbody>\n",
       "    <tr>\n",
       "      <th>0</th>\n",
       "      <td>1.283685e-05</td>\n",
       "      <td>9.999872e-01</td>\n",
       "    </tr>\n",
       "    <tr>\n",
       "      <th>1</th>\n",
       "      <td>5.475604e-01</td>\n",
       "      <td>4.524396e-01</td>\n",
       "    </tr>\n",
       "    <tr>\n",
       "      <th>2</th>\n",
       "      <td>2.602180e-111</td>\n",
       "      <td>1.000000e+00</td>\n",
       "    </tr>\n",
       "    <tr>\n",
       "      <th>3</th>\n",
       "      <td>1.000000e+00</td>\n",
       "      <td>2.498944e-26</td>\n",
       "    </tr>\n",
       "    <tr>\n",
       "      <th>4</th>\n",
       "      <td>9.865133e-01</td>\n",
       "      <td>1.348671e-02</td>\n",
       "    </tr>\n",
       "    <tr>\n",
       "      <th>...</th>\n",
       "      <td>...</td>\n",
       "      <td>...</td>\n",
       "    </tr>\n",
       "    <tr>\n",
       "      <th>1288</th>\n",
       "      <td>1.000000e+00</td>\n",
       "      <td>5.759712e-90</td>\n",
       "    </tr>\n",
       "    <tr>\n",
       "      <th>1289</th>\n",
       "      <td>1.000000e+00</td>\n",
       "      <td>9.621926e-45</td>\n",
       "    </tr>\n",
       "    <tr>\n",
       "      <th>1290</th>\n",
       "      <td>1.000000e+00</td>\n",
       "      <td>1.914828e-30</td>\n",
       "    </tr>\n",
       "    <tr>\n",
       "      <th>1291</th>\n",
       "      <td>1.000000e+00</td>\n",
       "      <td>6.193757e-15</td>\n",
       "    </tr>\n",
       "    <tr>\n",
       "      <th>1292</th>\n",
       "      <td>1.000000e+00</td>\n",
       "      <td>2.924509e-22</td>\n",
       "    </tr>\n",
       "  </tbody>\n",
       "</table>\n",
       "<p>1293 rows × 2 columns</p>\n",
       "</div>"
      ],
      "text/plain": [
       "                Ham          Spam\n",
       "0      1.283685e-05  9.999872e-01\n",
       "1      5.475604e-01  4.524396e-01\n",
       "2     2.602180e-111  1.000000e+00\n",
       "3      1.000000e+00  2.498944e-26\n",
       "4      9.865133e-01  1.348671e-02\n",
       "...             ...           ...\n",
       "1288   1.000000e+00  5.759712e-90\n",
       "1289   1.000000e+00  9.621926e-45\n",
       "1290   1.000000e+00  1.914828e-30\n",
       "1291   1.000000e+00  6.193757e-15\n",
       "1292   1.000000e+00  2.924509e-22\n",
       "\n",
       "[1293 rows x 2 columns]"
      ]
     },
     "execution_count": 22,
     "metadata": {},
     "output_type": "execute_result"
    }
   ],
   "source": [
    "pd.DataFrame(proba, columns=['Ham','Spam'])"
   ]
  },
  {
   "cell_type": "code",
   "execution_count": 23,
   "id": "7469f2a1",
   "metadata": {
    "execution": {
     "iopub.execute_input": "2023-10-11T19:15:27.390273Z",
     "iopub.status.busy": "2023-10-11T19:15:27.389897Z",
     "iopub.status.idle": "2023-10-11T19:15:27.403619Z",
     "shell.execute_reply": "2023-10-11T19:15:27.402415Z"
    },
    "papermill": {
     "duration": 0.02442,
     "end_time": "2023-10-11T19:15:27.405566",
     "exception": false,
     "start_time": "2023-10-11T19:15:27.381146",
     "status": "completed"
    },
    "tags": []
   },
   "outputs": [
    {
     "name": "stdout",
     "output_type": "stream",
     "text": [
      "Sensitivity=  0.4883116883116883\n",
      "Specificity=  0.9790748898678414\n",
      "Precision=  0.9082125603864735\n",
      "PRECISION SCORE : 0.9082125603864735\n",
      "RECALL SCORE : 0.4883116883116883\n",
      "F1 SCORE : 0.6351351351351352\n"
     ]
    }
   ],
   "source": [
    "TN = confusion[0, 0]\n",
    "FP = confusion[0, 1]\n",
    "FN = confusion[1, 0]\n",
    "TP = confusion[1, 1]\n",
    "sensitivity = TP/float(TP+FN)\n",
    "print(\"Sensitivity= \",sensitivity)\n",
    "specificity= TN/float(TN+FP)\n",
    "print(\"Specificity= \", specificity)\n",
    "print(\"Precision= \", TP/float(TP+FP))\n",
    "\n",
    "print(\"PRECISION SCORE :\",metrics.precision_score(y_test, y_pred))\n",
    "print(\"RECALL SCORE :\", metrics.recall_score(y_test, y_pred))\n",
    "print(\"F1 SCORE :\",metrics.f1_score(y_test, y_pred))"
   ]
  }
 ],
 "metadata": {
  "kernelspec": {
   "display_name": "Python 3",
   "language": "python",
   "name": "python3"
  },
  "language_info": {
   "codemirror_mode": {
    "name": "ipython",
    "version": 3
   },
   "file_extension": ".py",
   "mimetype": "text/x-python",
   "name": "python",
   "nbconvert_exporter": "python",
   "pygments_lexer": "ipython3",
   "version": "3.10.12"
  },
  "papermill": {
   "default_parameters": {},
   "duration": 8.223928,
   "end_time": "2023-10-11T19:15:28.033568",
   "environment_variables": {},
   "exception": null,
   "input_path": "__notebook__.ipynb",
   "output_path": "__notebook__.ipynb",
   "parameters": {},
   "start_time": "2023-10-11T19:15:19.809640",
   "version": "2.4.0"
  }
 },
 "nbformat": 4,
 "nbformat_minor": 5
}
